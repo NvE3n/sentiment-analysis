{
 "cells": [
  {
   "cell_type": "code",
   "execution_count": 1,
   "metadata": {},
   "outputs": [],
   "source": [
    "import pandas as pd\n",
    "from sklearn.model_selection import train_test_split\n",
    "from tensorflow.keras.preprocessing.text import Tokenizer\n",
    "from tensorflow.keras.preprocessing.sequence import pad_sequences\n",
    "from tensorflow.keras.models import Sequential\n",
    "from tensorflow.keras.layers import Embedding, Conv1D, GlobalMaxPooling1D, Dense, GRU\n",
    "from sklearn.metrics import confusion_matrix, classification_report\n",
    "import matplotlib.pyplot as plt\n",
    "import seaborn as sns"
   ]
  },
  {
   "cell_type": "code",
   "execution_count": 2,
   "metadata": {},
   "outputs": [],
   "source": [
    "#import tarfile\n",
    "\n",
    "#def extract_all_files(tar_file_path, extract_to):\n",
    "#    with tarfile.open(tar_file_path, 'r') as tar:\n",
    "#        tar.extractall(extract_to)\n",
    "\n",
    "# Example usage\n",
    "#tar_file_path = 'C:/Users/bideveloper1.cbl/Documents/CW_2_DL/yelp_dataset.tar'\n",
    "#extract_to = 'C:/Users/bideveloper1.cbl/Documents/CW_2_DL/yelp_extracted/'\n",
    "#extract_all_files(tar_file_path, extract_to)'''"
   ]
  },
  {
   "cell_type": "code",
   "execution_count": 3,
   "metadata": {},
   "outputs": [],
   "source": [
    "# Adjust the file path and column selection according to your dataset\n",
    "data_file_path = 'C:/Users/bideveloper1.cbl/Documents/CW_2_DL/yelp_extracted/yelp_academic_dataset_review.json'\n",
    "selected_columns = ['text', 'stars']\n",
    "\n",
    "# Define data types for optimization if needed\n",
    "data_types = {'text': 'str', 'stars': 'float32'}\n",
    "\n",
    "# Set the chunk size based on your available memory\n",
    "chunk_size = 10000\n",
    "\n",
    "# Create an iterator for reading chunks of the dataset\n",
    "yelp_df_iterator = pd.read_json(data_file_path, lines=True, dtype=data_types, chunksize=chunk_size)\n",
    "\n",
    "# Concatenate chunks and select specified columns\n",
    "yelp_df = pd.concat((chunk[selected_columns] for chunk in yelp_df_iterator), ignore_index=True)\n"
   ]
  },
  {
   "cell_type": "code",
   "execution_count": 4,
   "metadata": {},
   "outputs": [
    {
     "name": "stdout",
     "output_type": "stream",
     "text": [
      "                                                text  stars\n",
      "0  If you decide to eat here, just be aware it is...    3.0\n",
      "1  I've taken a lot of spin classes over the year...    5.0\n",
      "2  Family diner. Had the buffet. Eclectic assortm...    3.0\n",
      "3  Wow!  Yummy, different,  delicious.   Our favo...    5.0\n",
      "4  Cute interior and owner (?) gave us tour of up...    4.0\n"
     ]
    },
    {
     "data": {
      "text/plain": [
       "(100001, 2)"
      ]
     },
     "execution_count": 4,
     "metadata": {},
     "output_type": "execute_result"
    }
   ],
   "source": [
    "# Display the first few rows of the DataFrame\n",
    "subset_size = 100000\n",
    "yelp_df = yelp_df.loc[:subset_size, :]\n",
    "yelp_df = yelp_df.dropna()  # Drop null values\n",
    "print(yelp_df.head())\n",
    "print(yelp_df.shape)"
   ]
  },
  {
   "cell_type": "code",
   "execution_count": 5,
   "metadata": {},
   "outputs": [
    {
     "name": "stdout",
     "output_type": "stream",
     "text": [
      "                                                    text  stars  sentiment\n",
      "66286  Didn't love my experience the day I went. Smal...    3.0          0\n",
      "45561  Great food, great drinks and an amazing show! ...    4.0          1\n",
      "98451  Awesome place, I'd recommend it to anyone in t...    4.0          1\n",
      "13568  I'll admit Thai food is new to me, but I have ...    5.0          1\n",
      "92728  This is a place where you can find the best ic...    5.0          1\n"
     ]
    }
   ],
   "source": [
    "# Create binary sentiment labels (positive: 1, negative: 0)\n",
    "yelp_df['sentiment'] = yelp_df['stars'].apply(lambda x: 1 if x > 3 else 0)\n",
    "\n",
    "# Split the dataset into training and testing sets\n",
    "train_df, test_df = train_test_split(yelp_df, test_size=0.2, random_state=42)\n",
    "\n",
    "# Display the first few rows of the dataset\n",
    "print(train_df.head())"
   ]
  },
  {
   "cell_type": "code",
   "execution_count": 6,
   "metadata": {},
   "outputs": [],
   "source": [
    "# Tokenize the reviews\n",
    "tokenizer = Tokenizer(oov_token='<OOV>')\n",
    "tokenizer.fit_on_texts(train_df['text'])\n",
    "\n",
    "# Convert text to sequences\n",
    "train_sequences = tokenizer.texts_to_sequences(train_df['text'])\n",
    "test_sequences = tokenizer.texts_to_sequences(test_df['text'])\n",
    "\n",
    "# Pad sequences to have the same length\n",
    "max_length = 128\n",
    "train_padded = pad_sequences(train_sequences, maxlen=max_length, padding='post', truncating='post')\n",
    "test_padded = pad_sequences(test_sequences, maxlen=max_length, padding='post', truncating='post')\n",
    "\n",
    "# Create binary labels\n",
    "train_labels = train_df['sentiment']\n",
    "test_labels = test_df['sentiment']"
   ]
  },
  {
   "cell_type": "code",
   "execution_count": 7,
   "metadata": {},
   "outputs": [
    {
     "name": "stdout",
     "output_type": "stream",
     "text": [
      "Epoch 1/2\n",
      "5000/5000 [==============================] - 1373s 274ms/step - loss: 0.3316 - accuracy: 0.8561 - val_loss: 0.2389 - val_accuracy: 0.9040\n",
      "Epoch 2/2\n",
      "5000/5000 [==============================] - 1347s 269ms/step - loss: 0.1926 - accuracy: 0.9238 - val_loss: 0.2383 - val_accuracy: 0.9030\n"
     ]
    },
    {
     "data": {
      "text/plain": [
       "<keras.src.callbacks.History at 0x20993e59fc0>"
      ]
     },
     "execution_count": 7,
     "metadata": {},
     "output_type": "execute_result"
    }
   ],
   "source": [
    "# Build GRU model\n",
    "model_gru = Sequential()\n",
    "model_gru.add(Embedding(input_dim=len(tokenizer.word_index) + 1, output_dim=128, input_length=max_length))\n",
    "model_gru.add(GRU(128))\n",
    "model_gru.add(Dense(1, activation='sigmoid'))\n",
    "\n",
    "# Compile the model\n",
    "model_gru.compile(optimizer='adam', loss='binary_crossentropy', metrics=['accuracy'])\n",
    "\n",
    "# Train the model\n",
    "model_gru.fit(train_padded, train_labels, epochs=2, validation_data=(test_padded, test_labels), batch_size=16)\n"
   ]
  },
  {
   "cell_type": "code",
   "execution_count": 8,
   "metadata": {},
   "outputs": [
    {
     "name": "stdout",
     "output_type": "stream",
     "text": [
      "626/626 [==============================] - 36s 56ms/step\n",
      "Confusion Matrix:\n",
      "[[ 4956  1092]\n",
      " [  848 13105]]\n"
     ]
    },
    {
     "data": {
      "image/png": "[encoded data removed]",
      "text/plain": [
       "<Figure size 640x480 with 2 Axes>"
      ]
     },
     "metadata": {},
     "output_type": "display_data"
    }
   ],
   "source": [
    "# Evaluate the model on the test set\n",
    "y_pred_gru = (model_gru.predict(test_padded) > 0.5).astype(\"int32\")\n",
    "\n",
    "# Confusion Matrix\n",
    "conf_matrix_gru = confusion_matrix(test_labels, y_pred_gru)\n",
    "print(\"Confusion Matrix:\")\n",
    "print(conf_matrix_gru)\n",
    "\n",
    "# Displaying the confusion matrix using seaborn\n",
    "sns.heatmap(conf_matrix_gru, annot=True, fmt='d', cmap='Blues', xticklabels=['Negative', 'Positive'],\n",
    "            yticklabels=['Negative', 'Positive'])\n",
    "plt.xlabel('Predicted')\n",
    "plt.ylabel('Actual')\n",
    "plt.title('Confusion Matrix')\n",
    "plt.show()"
   ]
  },
  {
   "cell_type": "code",
   "execution_count": 9,
   "metadata": {},
   "outputs": [
    {
     "name": "stdout",
     "output_type": "stream",
     "text": [
      "Classification Report:\n",
      "              precision    recall  f1-score   support\n",
      "\n",
      "    Negative       0.85      0.82      0.84      6048\n",
      "    Positive       0.92      0.94      0.93     13953\n",
      "\n",
      "    accuracy                           0.90     20001\n",
      "   macro avg       0.89      0.88      0.88     20001\n",
      "weighted avg       0.90      0.90      0.90     20001\n",
      "\n"
     ]
    }
   ],
   "source": [
    "# Classification Report\n",
    "class_report_gru = classification_report(test_labels, y_pred_gru, target_names=['Negative', 'Positive'])\n",
    "print(\"Classification Report:\")\n",
    "print(class_report_gru)"
   ]
  },
  {
   "cell_type": "code",
   "execution_count": 10,
   "metadata": {},
   "outputs": [
    {
     "name": "stdout",
     "output_type": "stream",
     "text": [
      "Epoch 1/2\n",
      "5000/5000 [==============================] - 1000s 200ms/step - loss: 0.2857 - accuracy: 0.8783 - val_loss: 0.2450 - val_accuracy: 0.9007\n",
      "Epoch 2/2\n",
      "5000/5000 [==============================] - 990s 198ms/step - loss: 0.1766 - accuracy: 0.9321 - val_loss: 0.2604 - val_accuracy: 0.8973\n"
     ]
    },
    {
     "data": {
      "text/plain": [
       "<keras.src.callbacks.History at 0x20ad5391300>"
      ]
     },
     "execution_count": 10,
     "metadata": {},
     "output_type": "execute_result"
    }
   ],
   "source": [
    "# Build CNN model\n",
    "model_cnn = Sequential()\n",
    "model_cnn.add(Embedding(input_dim=len(tokenizer.word_index) + 1, output_dim=128, input_length=max_length))\n",
    "model_cnn.add(Conv1D(128, 5, activation='relu'))\n",
    "model_cnn.add(GlobalMaxPooling1D())\n",
    "model_cnn.add(Dense(1, activation='sigmoid'))\n",
    "\n",
    "# Compile the model\n",
    "model_cnn.compile(optimizer='adam', loss='binary_crossentropy', metrics=['accuracy'])\n",
    "\n",
    "# Train the model\n",
    "model_cnn.fit(train_padded, train_labels, epochs=2, validation_data=(test_padded, test_labels), batch_size=16)\n"
   ]
  },
  {
   "cell_type": "code",
   "execution_count": 11,
   "metadata": {},
   "outputs": [
    {
     "name": "stdout",
     "output_type": "stream",
     "text": [
      "626/626 [==============================] - 8s 13ms/step\n",
      "Confusion Matrix:\n",
      "[[ 5132   916]\n",
      " [ 1139 12814]]\n"
     ]
    },
    {
     "data": {
      "image/png": "[encoded data removed]",
      "text/plain": [
       "<Figure size 640x480 with 2 Axes>"
      ]
     },
     "metadata": {},
     "output_type": "display_data"
    }
   ],
   "source": [
    "# Evaluate the model on the test set\n",
    "y_pred_cnn = (model_cnn.predict(test_padded) > 0.5).astype(\"int32\")\n",
    "\n",
    "# Confusion Matrix\n",
    "conf_matrix_cnn = confusion_matrix(test_labels, y_pred_cnn)\n",
    "print(\"Confusion Matrix:\")\n",
    "print(conf_matrix_cnn)\n",
    "\n",
    "# Displaying the confusion matrix using seaborn\n",
    "sns.heatmap(conf_matrix_cnn, annot=True, fmt='d', cmap='Blues', xticklabels=['Negative', 'Positive'],\n",
    "            yticklabels=['Negative', 'Positive'])\n",
    "plt.xlabel('Predicted')\n",
    "plt.ylabel('Actual')\n",
    "plt.title('Confusion Matrix')\n",
    "plt.show()"
   ]
  },
  {
   "cell_type": "code",
   "execution_count": 12,
   "metadata": {},
   "outputs": [
    {
     "name": "stdout",
     "output_type": "stream",
     "text": [
      "Classification Report:\n",
      "              precision    recall  f1-score   support\n",
      "\n",
      "    Negative       0.82      0.85      0.83      6048\n",
      "    Positive       0.93      0.92      0.93     13953\n",
      "\n",
      "    accuracy                           0.90     20001\n",
      "   macro avg       0.88      0.88      0.88     20001\n",
      "weighted avg       0.90      0.90      0.90     20001\n",
      "\n"
     ]
    }
   ],
   "source": [
    "# Classification Report\n",
    "class_report_cnn = classification_report(test_labels, y_pred_cnn, target_names=['Negative', 'Positive'])\n",
    "print(\"Classification Report:\")\n",
    "print(class_report_cnn)"
   ]
  }
 ],
 "metadata": {
  "kernelspec": {
   "display_name": "Python 3",
   "language": "python",
   "name": "python3"
  },
  "language_info": {
   "codemirror_mode": {
    "name": "ipython",
    "version": 3
   },
   "file_extension": ".py",
   "mimetype": "text/x-python",
   "name": "python",
   "nbconvert_exporter": "python",
   "pygments_lexer": "ipython3",
   "version": "3.10.0"
  }
 },
 "nbformat": 4,
 "nbformat_minor": 2
}
